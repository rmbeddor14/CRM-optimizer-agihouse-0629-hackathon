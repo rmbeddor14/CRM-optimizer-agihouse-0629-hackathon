{
 "cells": [
  {
   "cell_type": "code",
   "execution_count": 89,
   "id": "2b178128-a04c-4ecf-a522-caf283b4f3f0",
   "metadata": {},
   "outputs": [],
   "source": [
    "##import libs \n",
    "\n",
    "import pandas as pd\n",
    "from sentence_transformers import SentenceTransformer\n",
    "import faiss\n",
    "from transformers import GPT2LMHeadModel, GPT2Tokenizer\n"
   ]
  },
  {
   "cell_type": "code",
   "execution_count": 90,
   "id": "49618748-3692-46c7-a2f9-9dd36ec79dbd",
   "metadata": {},
   "outputs": [],
   "source": [
    "\n",
    "# Load CSV\n",
    "df = pd.read_csv('Excell-All FilesPipeline.csv')\n",
    "\n",
    "# Transform to unstructured data\n",
    "unstructured_data = [f\"ID: {row['Borrower Name']} | Data: {row.to_dict()}\" for index, row in df.iterrows()]\n"
   ]
  },
  {
   "cell_type": "code",
   "execution_count": 91,
   "id": "2b3dbb0e-a218-4206-8a36-87e19d1eab19",
   "metadata": {},
   "outputs": [],
   "source": [
    "# Generate embeddings\n",
    "model = SentenceTransformer('all-MiniLM-L6-v2')\n",
    "embeddings = model.encode(unstructured_data)\n"
   ]
  },
  {
   "cell_type": "code",
   "execution_count": 92,
   "id": "e913d07c-b18e-49ad-b968-5129e6390936",
   "metadata": {},
   "outputs": [],
   "source": [
    "# Generate vectors for unstructured data\n",
    "vectors = model.encode(unstructured_data).tolist()"
   ]
  },
  {
   "cell_type": "code",
   "execution_count": 93,
   "id": "bcbf6269-ea66-44e9-8b57-29874caf6481",
   "metadata": {},
   "outputs": [],
   "source": [
    "\n",
    "from uuid import uuid4\n",
    "\n",
    "# Prepare documents for insertion\n",
    "documents = [\n",
    "    {\n",
    "        \"_id\": uuid4(),\n",
    "        \"text\": data,\n",
    "        \"$vector\": vector,\n",
    "    }\n",
    "    for data, vector in zip(unstructured_data, vectors)\n",
    "]"
   ]
  },
  {
   "cell_type": "code",
   "execution_count": 94,
   "id": "972d3284-7c10-4f8a-835d-135c82e8a8e3",
   "metadata": {},
   "outputs": [
    {
     "name": "stdout",
     "output_type": "stream",
     "text": [
      "The dimensionality of the embeddings is: 384\n"
     ]
    }
   ],
   "source": [
    "## check the num of dimensions\n",
    "from sentence_transformers import SentenceTransformer\n",
    "\n",
    "model = SentenceTransformer('all-MiniLM-L6-v2')\n",
    "dimensionality = model.get_sentence_embedding_dimension()\n",
    "print(f\"The dimensionality of the embeddings is: {dimensionality}\")"
   ]
  },
  {
   "cell_type": "code",
   "execution_count": 95,
   "id": "640f1898-26c0-493d-a36f-975c2a1e2322",
   "metadata": {},
   "outputs": [
    {
     "name": "stdout",
     "output_type": "stream",
     "text": [
      "Connected to Astra DB: ['movie_reviews', 'movies', 'test2', 'test_embed', 'test_from_python']\n"
     ]
    }
   ],
   "source": [
    "## connect to datastax\n",
    "\n",
    "from astrapy import DataAPIClient\n",
    "\n",
    "# Initialize the client\n",
    "client = DataAPIClient(\"AstraCS:PymAJEaUNxADeRliMYDbMoOs:1ce519e1291d8eef05c4f447447a1e37db92c974c12e0ab9856c68e1dbd17c1f\")\n",
    "db = client.get_database_by_api_endpoint(\n",
    "  \"https://31985f08-265d-4c68-ac28-94ab534cab2f-us-east-2.apps.astra.datastax.com\"\n",
    ")\n",
    "\n",
    "print(f\"Connected to Astra DB: {db.list_collection_names()}\")"
   ]
  },
  {
   "cell_type": "code",
   "execution_count": 96,
   "id": "e65b0c05-4136-4be1-aaaa-44a186df16dc",
   "metadata": {},
   "outputs": [
    {
     "ename": "CollectionAlreadyExistsException",
     "evalue": "CollectionInvalid: collection test_from_python already exists",
     "output_type": "error",
     "traceback": [
      "\u001b[0;31m---------------------------------------------------------------------------\u001b[0m",
      "\u001b[0;31mCollectionAlreadyExistsException\u001b[0m          Traceback (most recent call last)",
      "Cell \u001b[0;32mIn[96], line 2\u001b[0m\n\u001b[1;32m      1\u001b[0m \u001b[38;5;66;03m## create a collection \u001b[39;00m\n\u001b[0;32m----> 2\u001b[0m collection0 \u001b[38;5;241m=\u001b[39m \u001b[43mdb\u001b[49m\u001b[38;5;241;43m.\u001b[39;49m\u001b[43mcreate_collection\u001b[49m\u001b[43m(\u001b[49m\u001b[38;5;124;43m\"\u001b[39;49m\u001b[38;5;124;43mtest_from_python\u001b[39;49m\u001b[38;5;124;43m\"\u001b[39;49m\u001b[43m,\u001b[49m\u001b[43m \u001b[49m\u001b[43mdimension\u001b[49m\u001b[38;5;241;43m=\u001b[39;49m\u001b[38;5;241;43m384\u001b[39;49m\u001b[43m)\u001b[49m\n",
      "File \u001b[0;32m~/.local/share/virtualenvs/hackathon-z2F9-zEd/lib/python3.12/site-packages/astrapy/exceptions.py:663\u001b[0m, in \u001b[0;36mrecast_method_sync.<locals>._wrapped_sync\u001b[0;34m(*pargs, **kwargs)\u001b[0m\n\u001b[1;32m    660\u001b[0m \u001b[38;5;129m@wraps\u001b[39m(method)\n\u001b[1;32m    661\u001b[0m \u001b[38;5;28;01mdef\u001b[39;00m \u001b[38;5;21m_wrapped_sync\u001b[39m(\u001b[38;5;241m*\u001b[39mpargs: Any, \u001b[38;5;241m*\u001b[39m\u001b[38;5;241m*\u001b[39mkwargs: Any) \u001b[38;5;241m-\u001b[39m\u001b[38;5;241m>\u001b[39m Any:\n\u001b[1;32m    662\u001b[0m     \u001b[38;5;28;01mtry\u001b[39;00m:\n\u001b[0;32m--> 663\u001b[0m         \u001b[38;5;28;01mreturn\u001b[39;00m \u001b[43mmethod\u001b[49m\u001b[43m(\u001b[49m\u001b[38;5;241;43m*\u001b[39;49m\u001b[43mpargs\u001b[49m\u001b[43m,\u001b[49m\u001b[43m \u001b[49m\u001b[38;5;241;43m*\u001b[39;49m\u001b[38;5;241;43m*\u001b[39;49m\u001b[43mkwargs\u001b[49m\u001b[43m)\u001b[49m\n\u001b[1;32m    664\u001b[0m     \u001b[38;5;28;01mexcept\u001b[39;00m APIRequestError \u001b[38;5;28;01mas\u001b[39;00m exc:\n\u001b[1;32m    665\u001b[0m         \u001b[38;5;28;01mraise\u001b[39;00m DataAPIResponseException\u001b[38;5;241m.\u001b[39mfrom_response(\n\u001b[1;32m    666\u001b[0m             command\u001b[38;5;241m=\u001b[39mexc\u001b[38;5;241m.\u001b[39mpayload, raw_response\u001b[38;5;241m=\u001b[39mexc\u001b[38;5;241m.\u001b[39mresponse\u001b[38;5;241m.\u001b[39mjson()\n\u001b[1;32m    667\u001b[0m         )\n",
      "File \u001b[0;32m~/.local/share/virtualenvs/hackathon-z2F9-zEd/lib/python3.12/site-packages/astrapy/database.py:604\u001b[0m, in \u001b[0;36mDatabase.create_collection\u001b[0;34m(self, name, namespace, dimension, metric, service, indexing, default_id_type, additional_options, check_exists, max_time_ms, embedding_api_key, collection_max_time_ms)\u001b[0m\n\u001b[1;32m    602\u001b[0m driver_db \u001b[38;5;241m=\u001b[39m \u001b[38;5;28mself\u001b[39m\u001b[38;5;241m.\u001b[39m_astra_db\u001b[38;5;241m.\u001b[39mcopy(namespace\u001b[38;5;241m=\u001b[39mnamespace)\n\u001b[1;32m    603\u001b[0m \u001b[38;5;28;01mif\u001b[39;00m name \u001b[38;5;129;01min\u001b[39;00m existing_names:\n\u001b[0;32m--> 604\u001b[0m     \u001b[38;5;28;01mraise\u001b[39;00m CollectionAlreadyExistsException(\n\u001b[1;32m    605\u001b[0m         text\u001b[38;5;241m=\u001b[39m\u001b[38;5;124mf\u001b[39m\u001b[38;5;124m\"\u001b[39m\u001b[38;5;124mCollectionInvalid: collection \u001b[39m\u001b[38;5;132;01m{\u001b[39;00mname\u001b[38;5;132;01m}\u001b[39;00m\u001b[38;5;124m already exists\u001b[39m\u001b[38;5;124m\"\u001b[39m,\n\u001b[1;32m    606\u001b[0m         namespace\u001b[38;5;241m=\u001b[39mdriver_db\u001b[38;5;241m.\u001b[39mnamespace,\n\u001b[1;32m    607\u001b[0m         collection_name\u001b[38;5;241m=\u001b[39mname,\n\u001b[1;32m    608\u001b[0m     )\n\u001b[1;32m    610\u001b[0m service_dict: Optional[Dict[\u001b[38;5;28mstr\u001b[39m, Any]]\n\u001b[1;32m    611\u001b[0m \u001b[38;5;28;01mif\u001b[39;00m service \u001b[38;5;129;01mis\u001b[39;00m \u001b[38;5;129;01mnot\u001b[39;00m \u001b[38;5;28;01mNone\u001b[39;00m:\n",
      "\u001b[0;31mCollectionAlreadyExistsException\u001b[0m: CollectionInvalid: collection test_from_python already exists"
     ]
    }
   ],
   "source": [
    "## create a collection \n",
    "collection0 = db.create_collection(\"test_from_python\", dimension=384)\n"
   ]
  },
  {
   "cell_type": "code",
   "execution_count": 29,
   "id": "7f244876-af42-4331-8cab-f1aec57f5630",
   "metadata": {},
   "outputs": [],
   "source": [
    "insert_result = collection0.insert_one(documents[0])"
   ]
  },
  {
   "cell_type": "code",
   "execution_count": 30,
   "id": "0c759615-9cce-4917-9723-8a7bcb5217ff",
   "metadata": {},
   "outputs": [],
   "source": [
    "insert_result = collection0.insert_one(documents[1])\n",
    "insert_result = collection0.insert_one(documents[2])"
   ]
  },
  {
   "cell_type": "code",
   "execution_count": 97,
   "id": "fa9a1dfd-2fc4-4ca4-a56b-a7a849332c84",
   "metadata": {},
   "outputs": [],
   "source": [
    "insert_result = collection0.insert_one(documents[3])"
   ]
  },
  {
   "cell_type": "code",
   "execution_count": 98,
   "id": "ab3a6019-f5dd-4d40-b48d-54edbb96d5be",
   "metadata": {},
   "outputs": [],
   "source": [
    "insert_result = collection0.insert_one(documents[4])"
   ]
  },
  {
   "cell_type": "code",
   "execution_count": 103,
   "id": "44f7e343-e0cf-4015-8306-838d94deffc3",
   "metadata": {},
   "outputs": [],
   "source": [
    "## query part\n",
    "query = \"who has 25k gift\""
   ]
  },
  {
   "cell_type": "code",
   "execution_count": 104,
   "id": "13e5edbc-8903-4d2b-8370-355c3d7f8cfa",
   "metadata": {},
   "outputs": [],
   "source": [
    "# Generate embeddings\n",
    "model = SentenceTransformer('all-MiniLM-L6-v2')\n",
    "query_vector = model.encode(query).tolist()"
   ]
  },
  {
   "cell_type": "code",
   "execution_count": 105,
   "id": "29d1b5cc-f778-4bc4-a9c1-28f76b6467cd",
   "metadata": {},
   "outputs": [],
   "source": [
    "result = collection0.find_one({}, sort={\"$vector\": query_vector})"
   ]
  },
  {
   "cell_type": "code",
   "execution_count": 106,
   "id": "9cc78f8b-0ddf-4ba7-a277-90db46f92556",
   "metadata": {},
   "outputs": [
    {
     "name": "stdout",
     "output_type": "stream",
     "text": [
      "{'_id': UUID('f6b914ff-4802-4a4e-8e23-67ff6c4c4640'), 'text': \"ID: Golodova, Elena | Data: {'Borrower Name': 'Golodova, Elena', 'Current Loan Status Comment Box': '10/27/2022 JL Her b f Jeff will gift her $25K so please send her gift letter. She really wants to close on Dec 10-th so lock her for 45 days. She will ask LA for extension later. \\\\n10/25/22 ND. Updated Pre-Approval letter sent.\\\\n10/24/22 ND. Elena wanted a breakdown of another property. Provided breakdown.\\\\n10/19/22 ND. found a different property, gave her a breakdown of costs.\\\\n10/17/22 ND. pre-approval sent, need to run credit if they go under contract.\\\\nJL 9 22 2022 She is not sure as she needs $96 K income to qualify in 2023/ Might be bank statement. \\\\nShe will check in February 2022. Was suprised rates are above 4% lol', 'Subject Property Address': '329 SE 3rd St. Apartment 103T', 'Subject Property City': 'Hallandale Beach', 'Subject Property State': 'FL', 'Subject Property Zip': 33009, 'Borr Email': 'elenagoldrealtor@gmail.com', 'Borr Home Phone': '754-837-1656', 'Est Closing Date': '11/30/22', 'Buyers Agent Email': 'elenagoldrealtor@gmail.com', 'Last Finished Milestone': 'Decision', 'Loan Folder Name': 'Pipeline', 'Borr Base Income': 514.33, 'Borr Cell': '754-837-1656', 'Borr Credit Score for Decision Making': 774, 'Application Date': '10/27/22'}\"}\n"
     ]
    }
   ],
   "source": [
    "print(result)"
   ]
  },
  {
   "cell_type": "code",
   "execution_count": 107,
   "id": "a35b205d-fae1-4e90-bbd9-b4439c751cb8",
   "metadata": {},
   "outputs": [],
   "source": [
    "### another query \n",
    "query = \"who is waiting for borrower to sign doc\""
   ]
  },
  {
   "cell_type": "code",
   "execution_count": 108,
   "id": "5a85e292-07a1-405b-84c4-e02a273ea55a",
   "metadata": {},
   "outputs": [],
   "source": [
    "# Generate embeddings\n",
    "model = SentenceTransformer('all-MiniLM-L6-v2')\n",
    "query_vector = model.encode(query).tolist()"
   ]
  },
  {
   "cell_type": "code",
   "execution_count": 109,
   "id": "ddc2987e-bd15-4621-a8b5-9e62581b5b80",
   "metadata": {},
   "outputs": [
    {
     "name": "stdout",
     "output_type": "stream",
     "text": [
      "{'_id': UUID('4929105a-cad6-42e3-b20c-55ff90f4ca66'), 'text': \"ID: Chirghiz, Iurie | Data: {'Borrower Name': 'Chirghiz, Iurie', 'Current Loan Status Comment Box': '10/07/22 ND. Waiting for borrower to sign docs and send me needed docs as well.\\\\n09/16/22 ND. Found a house that is a new build. Closing possibly for May of 2022. Waiting on a contract.\\\\n08/29/22 ND. Pre-approval sent. Borrower understands that they will need to pay off all credit cards except lease in order to qualify for $450K.  They are thinking of new-built construction.', 'Subject Property Address': '4708 Cragmere Loop', 'Subject Property City': 'Clermont', 'Subject Property State': 'FL', 'Subject Property Zip': 34711, 'Borr Email': 'danata2807@gmail.com', 'Borr Home Phone': '407-212-2097', 'Est Closing Date': '5/30/23', 'Buyers Agent Email': 'irina.paul@futurehomerealty.com', 'Last Finished Milestone': 'Decision', 'Loan Folder Name': 'Pipeline', 'Borr Base Income': 7255.5, 'Borr Cell': '407-212-2097', 'Borr Credit Score for Decision Making': 735, 'Application Date': '10/5/22'}\"}\n"
     ]
    }
   ],
   "source": [
    "result = collection0.find_one({}, sort={\"$vector\": query_vector})\n",
    "print(result)"
   ]
  }
 ],
 "metadata": {
  "kernelspec": {
   "display_name": "Python 3 (ipykernel)",
   "language": "python",
   "name": "python3"
  },
  "language_info": {
   "codemirror_mode": {
    "name": "ipython",
    "version": 3
   },
   "file_extension": ".py",
   "mimetype": "text/x-python",
   "name": "python",
   "nbconvert_exporter": "python",
   "pygments_lexer": "ipython3",
   "version": "3.12.3"
  }
 },
 "nbformat": 4,
 "nbformat_minor": 5
}
